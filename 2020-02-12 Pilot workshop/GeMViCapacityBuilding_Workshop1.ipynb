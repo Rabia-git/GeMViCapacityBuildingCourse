{
 "cells": [
  {
   "cell_type": "markdown",
   "metadata": {},
   "source": [
    "# Workshop 1. Basic dynamics: deterministic SIR\n",
    "\n",
    "#### This notebook was developed by Dr Rabia Aziza (rabia.aziza@warwick.ac.uk)\n",
    "\n",
    "$\\\\ \\ \\\\ \\ \\\\ $\n",
    "\n",
    "## 1. Context of the course\n",
    "### 1.1 Purpose  and scope of the course \n",
    "This material has been developed as part of the *GeMVi* project: *NIHR Global Health Research Group on the Application of Genomics and Modelling to the Control of Virus Pathogens* in East Africa and the University of Warwick.\n",
    "\n",
    "In these workshops you will be introduced to some common techniques used in infectious disease modelling. The topics covered will include the implementation of deterministic and stochastic compartmental models, the use of maximum likelihood estimation to analyse super-spreading behaviour in novel disease outbreaks, modelling of contact patterns, and optimisation techniques for fitting epidemic models to real data.\n",
    "\n",
    "### 1.2 Authors/Contributors\n",
    "The contributors are all part of the GeMVi project:\n",
    "- Prof James Nokes (JNokes@kemri-wellcome.org)\n",
    "- Prof Matt Keeling (m.j.keeling@warwick.ac.uk)\n",
    "- Dr Joe Hilton (j.hilton@warwick.ac.uk)\n",
    "- Dr Rabia Aziza (rabia.aziza@warwick.ac.uk)\n",
    "- Dr Samuel Brand (s.brand@warwick.ac.uk)\n",
    "- Dr Andrea Parisi (andrea.parisi@warwick.ac.uk)\n",
    "\n",
    "### 1.3 Helpful references for the course\n",
    "- Anderson, R. M., & May, R. M. (1992). Infectious Diseases of Humans: Dynamics and Control.\n",
    "- Bjørnstad, O. N. (2018). Epidemics, models and data using R. https://doi.org/10.1007/978-3-319-97487-3\n",
    "- Diekmann, O., & Heesterbeek, J. A. P. (2000). Mathematical epidemiology of infectious diseases: model building, analysis and interpretation. 104: John Wiley and Sons.\n",
    "- Keeling, Matt J., & Pejman Rohani. Modeling Infectious Diseases in Humans and Animals. Princeton University Press, 2008.\n",
    "- Vynnycky, Emilia, & White, Richard G. An Introduction to Infectious Disease Modelling"
   ]
  },
  {
   "cell_type": "markdown",
   "metadata": {},
   "source": [
    "## 2. Background\n",
    "\n",
    "### 2.1 Mathematical models of infectious diseases\n",
    "\n",
    "Infectious diseases represent a major cause of illness and mortality in humans and non-human animals. They are caused by pathogens, living entities such as viruses, bacteria, or helminths (worms). Transmission routes include human-to-human contact (including sexual contacts), vector-borne transmission (transmission from human to human via an intermediate species), or zoonotic transmission (direct transmission to humans from an animal reservoir). Sustained human-to-human transmission results in an outbreak of infection, which can have several different outcomes:\n",
    "- Epidemic infection: a sudden outbreak of infection that acts on a short temporal scale;\n",
    "- Pandemic: a large-scale outbreak which spreads between continents;\n",
    "- Endemic infection: an infection that establishes itself over a long time scale in a particular region or population.\n",
    "Effective modelling of infectious disease dynamics requires us to choose the right tools for pathogen, host population, and type of outbreak we are dealing with. Vector-borne diseases require different models to human-to-human transmissible infections, and the dynamics of endemic infections require different considerations to those of novel infections.\n",
    "\n",
    "We can divide infectious disease models into two broad classes:\n",
    "- **Deterministic models** describe the infectious disease dynamics using a set of rate-based equations. These models are accurate in large populations where the population is approximately a continuum.\n",
    "- **Stochastic models** allow for randomness, and account for the inherently discrete nature of populations of individuals. This makes stochastic models more realistic than deterministic ones, but also more challenging to analyse and implement.\n",
    "\n",
    "In this notebook we will introduce the basics of deterministic modelling."
   ]
  },
  {
   "cell_type": "markdown",
   "metadata": {},
   "source": [
    "### 2.2 Compartmental models \n",
    "\n",
    "Compartmental models are the most widely-used class of model in infectious disease dynamics (and are common in many other areas of mathematical biology). Each individual in the population is assigned to a compartment based on some characteristic of interest, with individuals in the same compartment sharing the same status *(W3)*. The infectious disease dynamics are determined by the interactions between people of different compartments. The key to formulating such a model is to choose a set of compartments and transitions which are appropriate to the situation we want to model. In this workshop we will introduce a few commonly used compartmental structures, and focus on what is probably the most commonly used of all: the SIR model."
   ]
  },
  {
   "cell_type": "markdown",
   "metadata": {},
   "source": [
    "## 3. SIR without demography\n",
    "### 3.1 Model formulation\n",
    "To begin with, let's consider a closed population without demography (births and deaths) or migration. The \"no demography\" assumption is reasonable when we are considering the dynamics of an outbreak over a short timescale, where the expected number of demographic events is much smaller than the expected number of infectious events.\n",
    "Our host population is divided into three compartments corresponding to different infectious statuses:\n",
    "- Susceptible ($S$): naive individuals who have no immunity to infection\n",
    "- Infectious ($I$): individuals who have been infected and are currently able to transmit this infection to susceptible individuals\n",
    "- Recovered ($R$): individuals who have undergone a period of infection and are now immune to further infection\n",
    "\n",
    "There are two ways to transition between compartments: a susceptible individual can become infectious, resulting in an $S\\to I$ transition, or an infectious individual can recover, resulting in an $I\\to R$ transition.\n",
    "\n",
    "This system can be represented schematically, as follows:\n",
    "<img src=\"img/SIR_NoDemography.png\" style=\"width: 30%;\"/>\n",
    "In this workshop, our focus is on translating schematics like this into systems of differential equations, but we emphasise here that they can also be interpreted as a stochastic process.\n",
    "\n",
    "To define a set of differential equations, we need to assign rates to our infection and recovery events. Let $S(t)$ be the proportion of the population which is susceptible at time $t$, $I(t)$ be the proportion which is infectious, and $R(t)$ be the proportion which is recovered. To obtain an $S\\to I$ transition, we need an infectious individual to make an infectious contact with a susceptible individual. If individuals mix homogeneously, then the rate at which these contacts occur will be directly proportional to the proportional sizes of the susceptible and infectious populations, and so we can express this rate as $\\beta SI$. The parameter $\\beta$ is a per-capita infectious contact rate, defining the rate at which infectious individuals make social contacts **and** transmit infection along these contacts. To obtain an $R\\to I$ transmission, we need an infectious individual to recover because their innate immune response has fought off the infection. If the expected amount of time during which a case is infected is given by $T$, then the population-level rate at which recoveries occur will be $\\gamma I$, where $\\gamma=T^{-1}$.\n",
    "\n",
    "<img src=\"img/SIR_NoDemographyBetaGamma.png\" style=\"width: 40%;\"/>\n",
    "\n",
    "These two rates define our entire system, and we obtain a system of three coupled nonlinear ordinary differential equations:\n",
    "\n",
    "<center>$\\left\\{\\begin{array}{ll}\n",
    "          \\frac{dS}{dt}= -\\beta SI\\\\\n",
    "          \\frac{dI}{dt}= \\beta SI - \\gamma I\\\\\n",
    "          \\frac{dR}{dt}= \\gamma I\n",
    "        \\end{array}\n",
    "      \\right.$\n",
    "</center>\n",
    "\n",
    "In a closed population, one way to check the equations are properly written is to sum them all up. Without demography, $\\sum_{C_i\\in Classes} \\frac{dC_i}{dt} = 0$. For instance, in our model: $\\frac{dS}{dt}+\\frac{dI}{dt}+\\frac{dR}{dt}=0$"
   ]
  },
  {
   "cell_type": "markdown",
   "metadata": {},
   "source": [
    "### 3.2 Coding the deterministic SIR using R\n",
    "To implement the SIR model, we first define a function which calculates the rates of change of $S$, $I$, and $R$:"
   ]
  },
  {
   "cell_type": "code",
   "execution_count": 1,
   "metadata": {},
   "outputs": [],
   "source": [
    "## Create an SIR function\n",
    "sir <- function(time, state, parameters) {\n",
    "  with(as.list(c(state, parameters)), {\n",
    "    dS <- -beta * S * I\n",
    "    dI <-  beta * S * I - gamma * I\n",
    "    dR <-  gamma * I\n",
    "    return(list(c(dS, dI, dR)))\n",
    "  })\n",
    "}"
   ]
  },
  {
   "cell_type": "markdown",
   "metadata": {},
   "source": [
    "We next choose values for the model parameters $\\beta$ and $\\gamma$, and define initial conditions. In this example, we start with a very small proportion of infecteds $I(0)=1e^{-6}$, and no recovereds $R(0)=0$. Hence, all the rest are susceptibles $S(0)=1-1e^{-6}$."
   ]
  },
  {
   "cell_type": "code",
   "execution_count": 2,
   "metadata": {},
   "outputs": [],
   "source": [
    "## beta: infection parameter; gamma: recovery parameter\n",
    "parameters <- c(beta=1.4, gamma=0.2)\n",
    "\n",
    "## Proportion in each compartment: [S0, I0, R0]\n",
    "init <- c(S=1-1e-6, I=1e-6, R=0.0)"
   ]
  },
  {
   "cell_type": "markdown",
   "metadata": {},
   "source": [
    "We can now solve over some duration - let's try 80 days:"
   ]
  },
  {
   "cell_type": "code",
   "execution_count": 3,
   "metadata": {},
   "outputs": [],
   "source": [
    "## Load deSolve package\n",
    "library(deSolve)\n",
    "\n",
    "## Solve using ode (General Solver for Ordinary Differential Equations)\n",
    "results <- ode(y=init, times=seq(0, 80, by=1), func=sir, parms=parameters)"
   ]
  },
  {
   "cell_type": "markdown",
   "metadata": {},
   "source": [
    "Printing the first few time steps suggests that the infectious population is growing exponentially:"
   ]
  },
  {
   "cell_type": "code",
   "execution_count": 4,
   "metadata": {},
   "outputs": [
    {
     "data": {
      "text/html": [
       "<table>\n",
       "<thead><tr><th scope=col>time</th><th scope=col>S</th><th scope=col>I</th><th scope=col>R</th></tr></thead>\n",
       "<tbody>\n",
       "\t<tr><td>0           </td><td>0.9999990   </td><td>1.000000e-06</td><td>0.000000e+00</td></tr>\n",
       "\t<tr><td>1           </td><td>0.9999960   </td><td>3.611809e-06</td><td>4.353030e-07</td></tr>\n",
       "\t<tr><td>2           </td><td>0.9999850   </td><td>1.297504e-05</td><td>1.995864e-06</td></tr>\n",
       "\t<tr><td>3           </td><td>0.9999496   </td><td>4.333371e-05</td><td>7.055846e-06</td></tr>\n",
       "\t<tr><td>4           </td><td>0.9998297   </td><td>1.461499e-04</td><td>2.419419e-05</td></tr>\n",
       "\t<tr><td>5           </td><td>0.9994297   </td><td>4.889279e-04</td><td>8.134911e-05</td></tr>\n",
       "\t<tr><td>6           </td><td>0.9981042   </td><td>1.624819e-03</td><td>2.709392e-04</td></tr>\n",
       "\t<tr><td>7           </td><td>0.9937303   </td><td>5.371304e-03</td><td>8.983568e-04</td></tr>\n",
       "\t<tr><td>8           </td><td>0.9794986   </td><td>1.754225e-02</td><td>2.959145e-03</td></tr>\n",
       "\t<tr><td>9           </td><td>0.9352653   </td><td>5.517383e-02</td><td>9.560874e-03</td></tr>\n",
       "</tbody>\n",
       "</table>\n"
      ],
      "text/latex": [
       "\\begin{tabular}{r|llll}\n",
       " time & S & I & R\\\\\n",
       "\\hline\n",
       "\t 0            & 0.9999990    & 1.000000e-06 & 0.000000e+00\\\\\n",
       "\t 1            & 0.9999960    & 3.611809e-06 & 4.353030e-07\\\\\n",
       "\t 2            & 0.9999850    & 1.297504e-05 & 1.995864e-06\\\\\n",
       "\t 3            & 0.9999496    & 4.333371e-05 & 7.055846e-06\\\\\n",
       "\t 4            & 0.9998297    & 1.461499e-04 & 2.419419e-05\\\\\n",
       "\t 5            & 0.9994297    & 4.889279e-04 & 8.134911e-05\\\\\n",
       "\t 6            & 0.9981042    & 1.624819e-03 & 2.709392e-04\\\\\n",
       "\t 7            & 0.9937303    & 5.371304e-03 & 8.983568e-04\\\\\n",
       "\t 8            & 0.9794986    & 1.754225e-02 & 2.959145e-03\\\\\n",
       "\t 9            & 0.9352653    & 5.517383e-02 & 9.560874e-03\\\\\n",
       "\\end{tabular}\n"
      ],
      "text/markdown": [
       "\n",
       "| time | S | I | R |\n",
       "|---|---|---|---|\n",
       "| 0            | 0.9999990    | 1.000000e-06 | 0.000000e+00 |\n",
       "| 1            | 0.9999960    | 3.611809e-06 | 4.353030e-07 |\n",
       "| 2            | 0.9999850    | 1.297504e-05 | 1.995864e-06 |\n",
       "| 3            | 0.9999496    | 4.333371e-05 | 7.055846e-06 |\n",
       "| 4            | 0.9998297    | 1.461499e-04 | 2.419419e-05 |\n",
       "| 5            | 0.9994297    | 4.889279e-04 | 8.134911e-05 |\n",
       "| 6            | 0.9981042    | 1.624819e-03 | 2.709392e-04 |\n",
       "| 7            | 0.9937303    | 5.371304e-03 | 8.983568e-04 |\n",
       "| 8            | 0.9794986    | 1.754225e-02 | 2.959145e-03 |\n",
       "| 9            | 0.9352653    | 5.517383e-02 | 9.560874e-03 |\n",
       "\n"
      ],
      "text/plain": [
       "   time S         I            R           \n",
       "1  0    0.9999990 1.000000e-06 0.000000e+00\n",
       "2  1    0.9999960 3.611809e-06 4.353030e-07\n",
       "3  2    0.9999850 1.297504e-05 1.995864e-06\n",
       "4  3    0.9999496 4.333371e-05 7.055846e-06\n",
       "5  4    0.9998297 1.461499e-04 2.419419e-05\n",
       "6  5    0.9994297 4.889279e-04 8.134911e-05\n",
       "7  6    0.9981042 1.624819e-03 2.709392e-04\n",
       "8  7    0.9937303 5.371304e-03 8.983568e-04\n",
       "9  8    0.9794986 1.754225e-02 2.959145e-03\n",
       "10 9    0.9352653 5.517383e-02 9.560874e-03"
      ]
     },
     "metadata": {},
     "output_type": "display_data"
    }
   ],
   "source": [
    "## change to data frame\n",
    "out <- as.data.frame(results)\n",
    "\n",
    "## Show data\n",
    "head(out, 10)"
   ]
  },
  {
   "cell_type": "markdown",
   "metadata": {},
   "source": [
    "Let's try plotting the results:"
   ]
  },
  {
   "cell_type": "code",
   "execution_count": 5,
   "metadata": {},
   "outputs": [
    {
     "data": {
      "image/png": "[encoded data removed]",
      "text/plain": [
       "Plot with title \"SIR without demography\""
      ]
     },
     "metadata": {},
     "output_type": "display_data"
    }
   ],
   "source": [
    "df<-as.data.frame(results)\n",
    "plot(df[,1],df[,2],type=\"l\",col=\"blue\",lwd=3,xlab=\"Time\",ylab=\"Density\",main=\"SIR without demography\")\n",
    "lines(df[,1],df[,3],col=\"red\",lwd=3)\n",
    "lines(df[,1],df[,4],col=\"green\",lwd=3)\n",
    "legend(\"right\",\n",
    "c(\"S\",\"I\",\"R\"),\n",
    "fill=c(\"blue\",\"red\",\"green\")\n",
    ")"
   ]
  },
  {
   "cell_type": "markdown",
   "metadata": {},
   "source": [
    "The infectious prevalence (that is, the proportion of infectious individuals) initially grows exponentially, but quickly slows down as the proportion of susceptible individuals decreases and the pathogen runs out of new people to infect. The infectious prevalence peaks somewhere around day 15, at which point the rate of recoveries begins to outstrip the rate of new infections. Eventually the infection dies out, with most of the population now recovered."
   ]
  },
  {
   "cell_type": "markdown",
   "metadata": {},
   "source": [
    "## 4. Basic reproductive ratio\n",
    "\n",
    "One measure of the intensity of an outbreak is the basic reproductive ratio, denoted $R_0$. It is defined as *the expected number of secondary cases arising from a primary case in an entirely susceptible population*. The basic reproductive ratio is a *threshold parameter*; if $R_0<1$ then an outbreak of infection in a susceptible population will immediately die out, whereas when $R_0>1$ the infection can reach epidemic proportions. More generally, if the initial fraction of susceptibles $S(0)\\leq \\frac{1}{R_0}$, then $\\frac{dI}{dt}<0$ and the infection dies out.\n",
    "\n",
    "We can estimate $R_0$ for our SIR model without demography by considering the secondary cases generated by a single case introduced to a susceptible population. In this setting we expect all of the infectious contacts made by the infectious individual to be with susceptible individuals, so that the number of cases they generate per unit time is $\\beta$. Since their expected infectious duration is $T=\\gamma^{-1}$, we see that the basic reproductive ratio of the SIR model without demography is given by $R_0=\\frac{\\beta}{\\gamma}$. Since $\\beta$ is dependent on both biological factors (how much infection each case spreads) and social factors (how many contacts each case makes), it follows that the basic reproductive ratio is dependent on both the pathogen and the population in question.\n",
    "\n",
    "One application of the basic reproductive ratio is estimating the **herd immunity threshold** for a given infection. This is the proportion of the population which needs to be immune to an infection to reduce the effective reproductive ratio to 1. The effective reproductive ratio (usually denoted $R_E$) can be intepreted as the mean number of cases generated by a single case after a control measure has been applied. Vaccination acts to control infection by reducing the proportion of susceptibles in the population, and will eradicate an infection when $S$ is reduced below $\\frac{1}{R_0}$. The herd immunity threshold is thus given by $1-\\frac{1}{R_0}$\n",
    "\n",
    "\n",
    "Here are some reproduction numbers $R_0$ for common infectious diseases:\n",
    "\n",
    "    - Ebola, 2014:          1.51 to 2.53\n",
    "    - H1N1 Influenza, 2009: 1.46 to 1.48\n",
    "    - Seasonal Influenza:   2 to 3\n",
    "    - Measles:              12 to 18\n",
    "    - MERS:                 around 1\n",
    "    - Polio:                5 to 7\n",
    "    - SARS:                 <1 to 2.75\n",
    "    - Smallpox:             5 to 7\n",
    "    - 2019-nCoV:            2 to 4\n",
    "\n",
    "For the SARS pandemic in 2003, scientists estimated the original $R_0$ to be around 2.75. A month or two later, the effective $R_0$ dropped below 1, thanks to the tremendous effort that went into intervention strategies, including isolation and quarantine activities *(W5)*.\n",
    "\n",
    "### *$\\rightarrow$Try it yourself*\n",
    "Experiment with different values of $\\beta$ and $\\gamma$ in the implementation of the SIR model we defined above. In particular, you should pay close attention to what happens when the ratio between $\\beta$ and $\\gamma$ is smaller than or greater than $1$."
   ]
  },
  {
   "cell_type": "code",
   "execution_count": 6,
   "metadata": {},
   "outputs": [],
   "source": [
    "## cell to use if needed\n",
    "\n",
    "\n"
   ]
  },
  {
   "cell_type": "markdown",
   "metadata": {},
   "source": [
    "## 5. Other compartmental models \n",
    "\n",
    "Let's consider some other commonly used compartmental structures.\n",
    "\n",
    "\n",
    "#### SIR with demography\n",
    "If we wish to model the long-term persistence and endemic dynamics of an infectious disease, then we will need to bring demographic events into consideration. Births add to the pool of susceptibles, while deaths remove individuals from each compartment at a fixed per-capita rate. Note that here we are talking about \"natural\", rather than disease-induced, deaths.\n",
    "\n",
    "To simplify this model, we often assume that the birth rate is equal to the death rate so that the population stays constant in time.\n",
    "<img src=\"img/SIR_WithDemography.png\" style=\"width: 40%;\"/>\n",
    "\n",
    "#### SIR with induced mortality\n",
    "Many infectious agents are associated with a substantial level of mortality, e.g. malaria, dengue fever, SARS. In this scenario, we add a mortality rate to represent deaths from infection. Hence, an infectious individual can either recover or die.\n",
    "<img src=\"img/SIR_WithInfectionDeaths.png\" style=\"width: 40%;\"/>"
   ]
  },
  {
   "cell_type": "markdown",
   "metadata": {},
   "source": [
    "#### SIS dynamics\n",
    "\n",
    "If an infection does not confer any immunity, then recovery will return infectious individuals to the susceptible pool. In this situation we obtain *Susceptible*$\\to$*Infectious*$\\to$*Susceptible* (SIS) dynamics. The SIS structure is commonly used to model sexually transmitted diseases, and can also be used to model gastrointestinal infections such as rotavirus.\n",
    "\n",
    "<img src=\"img/SIS.png\" style=\"width: 20%;\"/>\n",
    "\n",
    "### *$\\rightarrow$Try it yourself*\n",
    "\n",
    "- Copy the code from the SIR model above, and modify it to produce an implementation of the SIS model. Since there is no Recovered class in the SIS model, you should only have a two dimensional system of ODEs.\n",
    "- Check the longterm dynamics of this model. How do they differ from an SIR?"
   ]
  },
  {
   "cell_type": "code",
   "execution_count": 7,
   "metadata": {},
   "outputs": [],
   "source": [
    "## SIS dynamics\n",
    "\n",
    "\n"
   ]
  },
  {
   "cell_type": "markdown",
   "metadata": {},
   "source": [
    "#### SEIR dynamics\n",
    "\n",
    "For many important infections there is a significant incubation period during which the individual is infected but not yet infectious. During this period the individual is in the Exposed compartment ($E$). Once the incubation period is over, the individual moves to the pool of infecteds $I$.\n",
    "<img src=\"img/SEIR.png\" style=\"width: 40%;\"/>\n",
    "\n",
    "### *$\\rightarrow$Try it yourself*\n",
    "- Copy the code from the SIR example above and modify it to obtain an implementation of the SEIR model. In this case we have four compartments and so your ODE model should have four equations.\n",
    "- How does including the incubation period enfluence the disease dynamics? Compare to an SIR."
   ]
  },
  {
   "cell_type": "code",
   "execution_count": 8,
   "metadata": {},
   "outputs": [],
   "source": [
    "## SEIR dynamics\n",
    "\n",
    "\n"
   ]
  },
  {
   "cell_type": "markdown",
   "metadata": {},
   "source": [
    "#### MSIR\n",
    "For many infections, including measles, babies can be born immune to the disease for the first few months of life due to protection from maternal antibodies, which is called *passive immunity*. Thus, such births produce hosts with a 'Maternally derived immunity' ($M$). This latter usually wanes with time until it moves the host to join the susceptibles.\n",
    "<img src=\"img/MSIR.png\" style=\"width: 50%;\"/>\n",
    "            \n",
    "#### SIRC\n",
    "In some infectious diseases, like hepatitis B, typhoid fever, tuberculosis or herpes, a proportion of the infecteds can become chronic carriers. They keep on transmitting the infection at a low rate for years, while not suffering symptoms. Thus, susceptibles can get infected by either infecteds or carriers.\n",
    "<img src=\"img/SIRC.png\" style=\"width: 30%;\"/>\n",
    "\n",
    "#### SI\n",
    "When an infection always leads to fatality, we simplify the SIR model to an SI model.\n",
    "<img src=\"img/SI.png\" style=\"width: 30%;\"/>\n"
   ]
  },
  {
   "cell_type": "markdown",
   "metadata": {},
   "source": [
    "#### SIRS\n",
    "If immunity lasts for a period of time before waning, we can model an SIRS model. A recovered person remains in the $R$ pool for a period of time, before going back to being a susceptible.\n",
    "<img src=\"img/SIRS.png\" style=\"width: 30%;\"/>\n",
    "\n",
    "#### SIRVT\n",
    "We can also incorporate vaccination and treatment. Susceptible individuals who are vaccinated proceed to class $V$, at which point they are considered immune. Upon Treatment, infectious individuals ($I$) proceed to class $T$, at which point their infectiousness is reduced.\n",
    "<img src=\"img/SIRVT.png\" style=\"width: 30%;\"/>"
   ]
  },
  {
   "cell_type": "markdown",
   "metadata": {},
   "source": [
    "#### More complex models\n",
    "Various examples of other compartmental models for infectious diseases can be found in the literature, ranging from the simplest to the very complex. For instance, we cite here the following examples:\n",
    "\n",
    "The modelled transmission dynamics of the 1918 influenza pandemic in Geneva, Switzerland via the SEIRAJ model, which is an SEIR with asymptomatic and hospitalized/diagnosed and reported. It contains 6 classes: susceptible ($S$), exposed ($E$), clinically ill and infectious ($I$), asymptomatic and partially infectious ($A$), hospitalized/diagnosed and reported ($J$), and recovered ($R$). \n",
    "<img src=\"img/SEIRAJ.png\" style=\"width: 45%;\"/>\n",
    "\n",
    "The second example describes an Ebola transmission model SEIRHF by (Legrand et al., 2007) with also 6 classes: susceptible ($S$), exposed ($E$), infectious in the community ($I$), infectious in the hospital ($H$), infectious after death at funeral ($F$), or recovered/removed ($R$). \n",
    "<img src=\"img/SEIRHF.png\" style=\"width: 60%;\"/>\n",
    "\n",
    "The last example we're citing here is that of the vector-born modelling of Zika *(Suparit et al., 2018)*. It represents the transmission dynamics of the Zika disease between humans and mosquitoes. Susceptible humans ($S_H$) can be infected if they are bitten by infectious mosquitoes. Infected humans immediately become exposed ($E_H$) and then transition to the infectious class ($I_H$) after the intrinsic incubation period. Finally, infectious humans move to recovered class ($R_H$). Mosquitoes enter the susceptible class at birth and die naturally (from any class at a specific rate). If susceptible mosquitoes($S_v$) bite infectious humans, they are moved to the exposed ($E_v$) class and then become infectious ($I_v$).\n",
    "<img src=\"img/ZIKV.png\" style=\"width: 50%;\"/>"
   ]
  },
  {
   "cell_type": "markdown",
   "metadata": {},
   "source": [
    "## 6. SIR with demography  \n",
    "To introduce demography, the most basic elements to add are usually natural births and deaths, both independent of the disease. \n",
    "\n",
    "<img src=\"img/SIR_WithDemography.png\" style=\"width: 40%;\"/>\n",
    "\n",
    "The daily **death rate** $\\mu$ depends on the host's average lifespan $\\frac{1}{\\mu}$. This death rate is independent of disease status, so that the rate at which we lose susceptible, infectious, and recovered individuals is respectively $\\mu S$, $\\mu I$ and $\\mu R$.\n",
    "\n",
    "In this model, we will assume that all newborns are susceptible to infection, although we note here that this is not the case in every model since sometimes we will want to explicitly model maternally-derived immunity. To keep our population size fixed, we will assume that our birth rate is equal to our death rate.\n",
    "\n",
    "This gives us the following system of ODEs:\n",
    "$\\left\\{\\begin{array}{ll}\n",
    "          \\frac{dS}{dt}= \\mu - \\beta SI - \\mu S\\\\\n",
    "          \\frac{dI}{dt}= \\beta SI - \\gamma I - \\mu I\\\\\n",
    "          \\frac{dR}{dt}= \\gamma I - \\mu R\n",
    "        \\end{array}\n",
    "      \\right.$\n",
    "\n",
    "\n",
    "### *$\\rightarrow$Try it yourself*\n",
    "- In an SIR with demography, does the equation $\\sum_{C_i\\in Classes} \\frac{dC_i}{dt} = 0$ (see *section 3.2*) hold? Explain.\n",
    "\n",
    "- In the next cell, write an implementation of the SIR model with demography by adding birth and death events to the SIR model without demography. Solve the equations using `desolve` and plot your solution for a few values of $\\mu$. In general sensible values of $\\mu$ will be somewhere around $\\frac{1}{70*365}$, depending on the population we are modelling. Why do you think this is?"
   ]
  },
  {
   "cell_type": "code",
   "execution_count": 9,
   "metadata": {},
   "outputs": [],
   "source": [
    "### Copy the necessary code from section 3.2 and use it to produce a plot for an SIR with demography dynamics\n",
    "\n",
    "# function...\n",
    "\n",
    "\n",
    "\n",
    "# prepare parameters...\n",
    "\n",
    "\n",
    "\n",
    "# solve...\n",
    "\n",
    "\n",
    "\n",
    "\n",
    "# plot results...\n",
    "\n",
    "\n",
    "\n"
   ]
  },
  {
   "cell_type": "markdown",
   "metadata": {},
   "source": [
    "#### Basic reproductive ratio\n",
    "If we assume $S_0=1$, then in an SIR with natural births and deaths we have $R_0=\\frac{\\beta}{\\gamma + \\mu}$\n",
    "\n",
    "This $R_0$ is always close to the $R_0$ estimated in the absence of demography, but is slightly smaller.\n",
    "\n",
    "#### Mean age of infection\n",
    "The mean age of infection, noted $A$, is the average age at which susceptibles get infected. If multiple infections through lifetime is possible in the model, then we account for the first infection. It is calculated as $A\\approx\\frac{1}{\\mu (R_0-1)}$\n",
    "\n",
    "### *$\\rightarrow$Try it yourself*\n",
    "\n",
    "Write functions to calculate $R_0$ and $A$ for the SIR model with demography. Try calculating them for a few different sets of parameters $\\beta$, $\\gamma$, and $\\mu$."
   ]
  },
  {
   "cell_type": "code",
   "execution_count": 10,
   "metadata": {},
   "outputs": [],
   "source": [
    "## Print R0\n",
    "\n",
    "## Print the mean Age of infection\n",
    "\n"
   ]
  },
  {
   "cell_type": "markdown",
   "metadata": {},
   "source": [
    "## 7. Equilibrium and stability \n",
    "\n",
    "#### Equilibrium state\n",
    "Demographic turnover can allow a disease to persist in a population in the long term *(Keeling and Rohani, 2008)*. Essentially, births replace recovered individuals with susceptible ones and stop the pathogen from running out of people to infect.\n",
    "At the equilibrium of our system of ODEs, $\\frac{dS}{dt}=\\frac{dI}{dt}=\\frac{dR}{dt}=0$\n",
    "\n",
    "When $R_0<1$, the SIR model with demography has a single equilibrium at $(S^*, I^*, R^*)=(1, 0, 0)$. When $R_0>1$, this is still an equilibrium, but we also find an endemic equilibrium at $(S^*, I^*, R^*) = (\\frac{1}{R_0} , \\frac{\\mu}{\\beta}(R_0-1) , 1-\\frac{1}{R_0}-\\frac{\\mu}{\\beta}(R_0-1))$.\n",
    "\n",
    "#### Stability\n",
    "Analysing the stability of equilibrium points indicates how the system behaves under small perturbations from equilibrium. If an equilibrium is stable, then when we move a small distance away from that equilibrium we should quickly return. If an equilibrium is unstable, then when we move a small distance away from that equilibrium we will carry on moving away indefinitely, or until we reach another equilibrium. A full stability analysis would involve linearising the system and calculating its eigenvalues(see, for example *(Arfken, 1985, W4)*), which we will not detail here. In the SIR model with demography, it turns out that when $R_0<1$ the single disease-free equilibrium is stable, so that if we introduce a small amount of disease we quickly return to the disease-free equilibrium. When $R_0>1$, the disease-free equilibrium is unstable and the endemic equilibrium is stable, so that if we are at endemic equilibrium and either add or remove some infection, the prevalence will quickly revert to its endemic level.\n",
    "\n",
    "In case of a stable endemic equilibrium, a damped oscillatory behaviour can be noticed as the equilibrium is approached. The amplitude of the oscillations decrease over time until the equilibrium is achieved.\n",
    "<img src=\"img/SIRwithDemogB.6G.2Mu5e-3.png\" style=\"width: 80%;\"/>\n",
    "\n",
    "### *$\\rightarrow$Try it yourself*\n",
    "Using the code you wrote to implement the SIR model with demography, find parameter choices $(\\beta , \\gamma, \\mu)$ so that the system tends towards:\n",
    "\n",
    "- A disease-free equilibrium    \n",
    "- An endemic equilibrium\n"
   ]
  },
  {
   "cell_type": "markdown",
   "metadata": {},
   "source": [
    "## 8. Going further\n",
    "\n",
    "- We suppose we have two outbreks with the same $\\beta$ \n",
    "    - What could be said about them if we also have $\\beta > \\gamma$?\n",
    "    - Try plotting outbreaks with $\\gamma=\\frac{1}{5}$ and $\\gamma=\\frac{1}{300}$ and compare their behavior. Think about the qualitative difference between these infections and how it impacts their longterm dynamics. You should try this out for a few values of $\\beta$\n",
    "\n",
    "\n",
    "- What could be said about the infectious process modelled by the following schematic? Write the corresponding equations and implement the model.\n",
    "\n",
    "<img src=\"img/SI_withdemography2.png\" style=\"width: 20%;\"/>\n",
    "\n",
    "\n",
    "- Consider the following  set of equations:\n",
    "\n",
    "<center>$\\left\\{\\begin{array}{ll}\n",
    "          \\frac{dS}{dt}= - \\beta SI + \\gamma_1 I - vR \\\\\n",
    "          \\frac{dI}{dt}= \\beta SI - (\\gamma_1+\\gamma_2) I \\\\\n",
    "          \\frac{dR}{dt}= vR + \\gamma_2 I \n",
    "        \\end{array}\n",
    "      \\right.$</center>\n",
    "      \n",
    "   - What processes are happening in this model? Try drawing a diagram of the compartments.\n",
    "   - What could $v$ represent?\n",
    "   - We would like to add demography to this model. Suppose that the overall birth rate is $b$ and that out of each cohort of $b$ births, a total of $m$ newborns are born with a lifelong innate immunity to the infection. As usual, use $\\mu$ to denote the natural death rate. Draw the model, update the corresponding equations, and implement the model in code.\n",
    "   - What parameter choices will keep the population size fixed with time?\n"
   ]
  },
  {
   "cell_type": "markdown",
   "metadata": {},
   "source": [
    "- Model and plot the dynamics of an SIRS with demography"
   ]
  },
  {
   "cell_type": "code",
   "execution_count": 11,
   "metadata": {},
   "outputs": [],
   "source": [
    "## SIRS dynamics\n",
    "\n",
    "\n"
   ]
  },
  {
   "cell_type": "markdown",
   "metadata": {},
   "source": [
    "- Model the dynamics of an SEIR with demography and disease induced mortality"
   ]
  },
  {
   "cell_type": "code",
   "execution_count": 12,
   "metadata": {},
   "outputs": [],
   "source": [
    "## SEIR dynamics\n",
    "\n",
    "\n"
   ]
  },
  {
   "cell_type": "markdown",
   "metadata": {},
   "source": [
    "## 9. Summary\n",
    "\n",
    "- An outbreak of infectious disease can lead to epidemic, pandemic, or endemic infection.\n",
    "\n",
    "- Deterministic mathematical models are often used when dealing with large populations. The results are always the same given a specific set of initial conditions.\n",
    "\n",
    "- Stochastic models includes random elements within the model, they can give different outputs even with the same input parameters. \n",
    "\n",
    "- Compartmental modelling is a commonly used approach in infectious disease modelling.\n",
    "- The basic reproductive ratio $R_0$ is the average number of secondary cases arising from an average primary case in an entirely susceptible population.\n",
    "\n",
    "- If the initial fraction of susceptibles $S(0)\\leq \\frac{1}{R_0}$, then the infection dies out. \n",
    "\n",
    "- Vaccination helps reduce $S(0)$ below $\\frac{1}{R_0}$ in order to eliminate the disease.\n",
    "\n",
    "- The mean age of infection $A$ is the average age at which an individual becomes infected. \n",
    "\n",
    "- At endemic equilibrium, $S_0=\\frac{1}{R_0}$\n",
    "\n",
    "- In case of a stable endemic equilibrium, a damped oscillatory behaviour can be noticed as the equilibrium is approached. The amplitude of the oscillations decrease over time until the equilibrium is achieved."
   ]
  },
  {
   "cell_type": "markdown",
   "metadata": {},
   "source": [
    "## 10. References\n",
    "- Arfken, G. \"Eigenvectors, Eigenvalues.\" §4.7 in Mathematical Methods for Physicists, 3rd ed. Orlando, FL: Academic Press, pp. 229-237, 1985.\n",
    "- Brauer, F. (2008). Compartmental models in epidemiology. Lecture Notes in Mathematics, 1945, 19–79. https://doi.org/10.1007/978-3-540-78911-6_2\n",
    "- Chitnis, N. (2011). Einführung in die Mathematische Epidemiologie: Introduction to Mathematical Epidemiology: The Basic Reproductive Number. Retrieved from http://www.luchsinger‐mathematics.ch\n",
    "- Choisy, M., Gugan, J.-F., & Rohani, P. (2007). Mathematical Modeling of Infectious Diseases Dynamics. Encyclopedia of Infectious Diseases, 379–404. https://doi.org/10.1002/9780470114209.ch22\n",
    "- Keeling, Matt J., and Pejman Rohani. Modeling Infectious Diseases in Humans and Animals. Princeton University Press, 2008.\n",
    "- Kermack, W. O., & McKendrick, A. G. (1927). A Contribution to the Mathematical Theory of Epidemics. Proceedings of the Royal Society A: Mathematical, Physical and Engineering Sciences, 115(772), 700–721. https://doi.org/10.1098/rspa.1927.0118\n",
    "- Legrand J, Grais RF, Boelle PY, Valleron AJ, Flahault A. Understanding the dynamics of Ebola epidemics. Epidemiol Infect. 2007;4:610\n",
    "- Suparit, Parinya & Wiratsudakul, Anuwat & Modchang, Charin. (2018). A mathematical model for Zika virus transmission dynamics with a time-dependent mosquito biting rate. Theoretical Biology and Medical Modelling. 15. 10.1186/s12976-018-0083-z\n",
    "- W1 - https://en.wikipedia.org/wiki/Mathematical_modelling_of_infectious_disease\n",
    "- W2 - https://en.wikipedia.org/wiki/Compartmental_models_in_epidemiology#Bio-mathematical_deterministic_treatment_of_the_SIR_model\n",
    "- W3 - https://en.wikipedia.org/wiki/Compartmental_models_in_epidemiology\n",
    "- W4 - http://mathworld.wolfram.com/Eigenvalue.html\n",
    "- W5 - http://theconversation.com/r0-how-scientists-quantify-the-intensity-of-an-outbreak-like-coronavirus-and-its-pandemic-potential-130777\n"
   ]
  }
 ],
 "metadata": {
  "kernelspec": {
   "display_name": "R",
   "language": "R",
   "name": "ir"
  },
  "language_info": {
   "codemirror_mode": "r",
   "file_extension": ".r",
   "mimetype": "text/x-r-source",
   "name": "R",
   "pygments_lexer": "r",
   "version": "3.6.1"
  }
 },
 "nbformat": 4,
 "nbformat_minor": 2
}
